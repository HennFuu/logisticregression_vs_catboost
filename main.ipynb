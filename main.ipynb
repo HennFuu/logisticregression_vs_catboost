{
 "cells": [
  {
   "cell_type": "code",
   "execution_count": 3,
   "metadata": {},
   "outputs": [
    {
     "name": "stdout",
     "output_type": "stream",
     "text": [
      "Collecting pandas\n",
      "  Downloading pandas-2.2.2-cp311-cp311-win_amd64.whl.metadata (19 kB)\n",
      "Collecting numpy>=1.23.2 (from pandas)\n",
      "  Downloading numpy-2.0.1-cp311-cp311-win_amd64.whl.metadata (60 kB)\n",
      "     ---------------------------------------- 0.0/60.9 kB ? eta -:--:--\n",
      "     ---------------------------------------- 60.9/60.9 kB 1.6 MB/s eta 0:00:00\n",
      "Requirement already satisfied: python-dateutil>=2.8.2 in c:\\users\\henri\\appdata\\roaming\\python\\python311\\site-packages (from pandas) (2.9.0.post0)\n",
      "Collecting pytz>=2020.1 (from pandas)\n",
      "  Downloading pytz-2024.1-py2.py3-none-any.whl.metadata (22 kB)\n",
      "Collecting tzdata>=2022.7 (from pandas)\n",
      "  Downloading tzdata-2024.1-py2.py3-none-any.whl.metadata (1.4 kB)\n",
      "Requirement already satisfied: six>=1.5 in c:\\users\\henri\\appdata\\roaming\\python\\python311\\site-packages (from python-dateutil>=2.8.2->pandas) (1.16.0)\n",
      "Downloading pandas-2.2.2-cp311-cp311-win_amd64.whl (11.6 MB)\n",
      "   ---------------------------------------- 0.0/11.6 MB ? eta -:--:--\n",
      "   - -------------------------------------- 0.4/11.6 MB 11.2 MB/s eta 0:00:02\n",
      "   -- ------------------------------------- 0.8/11.6 MB 10.4 MB/s eta 0:00:02\n",
      "   -- ------------------------------------- 0.8/11.6 MB 10.4 MB/s eta 0:00:02\n",
      "   -- ------------------------------------- 0.8/11.6 MB 4.8 MB/s eta 0:00:03\n",
      "   ---- ----------------------------------- 1.2/11.6 MB 5.5 MB/s eta 0:00:02\n",
      "   ------ --------------------------------- 1.9/11.6 MB 6.9 MB/s eta 0:00:02\n",
      "   ------- -------------------------------- 2.3/11.6 MB 7.4 MB/s eta 0:00:02\n",
      "   --------- ------------------------------ 2.9/11.6 MB 8.0 MB/s eta 0:00:02\n",
      "   ----------- ---------------------------- 3.4/11.6 MB 8.3 MB/s eta 0:00:02\n",
      "   ------------ --------------------------- 3.7/11.6 MB 8.5 MB/s eta 0:00:01\n",
      "   ------------ --------------------------- 3.7/11.6 MB 8.5 MB/s eta 0:00:01\n",
      "   -------------- ------------------------- 4.1/11.6 MB 7.6 MB/s eta 0:00:01\n",
      "   ---------------- ----------------------- 4.7/11.6 MB 7.9 MB/s eta 0:00:01\n",
      "   ----------------- ---------------------- 5.1/11.6 MB 7.9 MB/s eta 0:00:01\n",
      "   ------------------- -------------------- 5.7/11.6 MB 8.2 MB/s eta 0:00:01\n",
      "   --------------------- ------------------ 6.2/11.6 MB 8.4 MB/s eta 0:00:01\n",
      "   --------------------- ------------------ 6.3/11.6 MB 8.4 MB/s eta 0:00:01\n",
      "   --------------------- ------------------ 6.3/11.6 MB 8.4 MB/s eta 0:00:01\n",
      "   --------------------- ------------------ 6.3/11.6 MB 8.4 MB/s eta 0:00:01\n",
      "   ---------------------- ----------------- 6.6/11.6 MB 7.2 MB/s eta 0:00:01\n",
      "   ------------------------ --------------- 7.1/11.6 MB 7.3 MB/s eta 0:00:01\n",
      "   -------------------------- ------------- 7.6/11.6 MB 7.5 MB/s eta 0:00:01\n",
      "   ---------------------------- ----------- 8.2/11.6 MB 7.7 MB/s eta 0:00:01\n",
      "   ----------------------------- ---------- 8.6/11.6 MB 7.8 MB/s eta 0:00:01\n",
      "   ------------------------------- -------- 9.3/11.6 MB 8.0 MB/s eta 0:00:01\n",
      "   -------------------------------- ------- 9.6/11.6 MB 8.1 MB/s eta 0:00:01\n",
      "   --------------------------------- ------ 9.8/11.6 MB 7.8 MB/s eta 0:00:01\n",
      "   ----------------------------------- ---- 10.5/11.6 MB 8.1 MB/s eta 0:00:01\n",
      "   ------------------------------------- -- 10.9/11.6 MB 8.0 MB/s eta 0:00:01\n",
      "   ---------------------------------------  11.5/11.6 MB 8.7 MB/s eta 0:00:01\n",
      "   ---------------------------------------  11.5/11.6 MB 8.5 MB/s eta 0:00:01\n",
      "   ---------------------------------------  11.6/11.6 MB 8.4 MB/s eta 0:00:01\n",
      "   ---------------------------------------  11.6/11.6 MB 8.4 MB/s eta 0:00:01\n",
      "   ---------------------------------------  11.6/11.6 MB 8.4 MB/s eta 0:00:01\n",
      "   ---------------------------------------  11.6/11.6 MB 8.4 MB/s eta 0:00:01\n",
      "   ---------------------------------------  11.6/11.6 MB 8.4 MB/s eta 0:00:01\n",
      "   ---------------------------------------  11.6/11.6 MB 8.4 MB/s eta 0:00:01\n",
      "   ---------------------------------------  11.6/11.6 MB 8.4 MB/s eta 0:00:01\n",
      "   ---------------------------------------- 11.6/11.6 MB 6.5 MB/s eta 0:00:00\n",
      "Downloading numpy-2.0.1-cp311-cp311-win_amd64.whl (16.6 MB)\n",
      "   ---------------------------------------- 0.0/16.6 MB ? eta -:--:--\n",
      "   - -------------------------------------- 0.5/16.6 MB 14.2 MB/s eta 0:00:02\n",
      "   -- ------------------------------------- 1.0/16.6 MB 12.2 MB/s eta 0:00:02\n",
      "   --- ------------------------------------ 1.3/16.6 MB 11.6 MB/s eta 0:00:02\n",
      "   --- ------------------------------------ 1.5/16.6 MB 8.7 MB/s eta 0:00:02\n",
      "   ---- ----------------------------------- 2.1/16.6 MB 9.4 MB/s eta 0:00:02\n",
      "   ---- ----------------------------------- 2.1/16.6 MB 9.4 MB/s eta 0:00:02\n",
      "   ----- ---------------------------------- 2.3/16.6 MB 7.2 MB/s eta 0:00:02\n",
      "   ------ --------------------------------- 2.8/16.6 MB 7.4 MB/s eta 0:00:02\n",
      "   -------- ------------------------------- 3.4/16.6 MB 8.1 MB/s eta 0:00:02\n",
      "   --------- ------------------------------ 3.8/16.6 MB 8.2 MB/s eta 0:00:02\n",
      "   --------- ------------------------------ 3.9/16.6 MB 8.3 MB/s eta 0:00:02\n",
      "   --------- ------------------------------ 4.1/16.6 MB 7.4 MB/s eta 0:00:02\n",
      "   ----------- ---------------------------- 4.7/16.6 MB 7.6 MB/s eta 0:00:02\n",
      "   ------------ --------------------------- 5.2/16.6 MB 7.9 MB/s eta 0:00:02\n",
      "   ------------- -------------------------- 5.6/16.6 MB 8.1 MB/s eta 0:00:02\n",
      "   -------------- ------------------------- 6.0/16.6 MB 8.1 MB/s eta 0:00:02\n",
      "   --------------- ------------------------ 6.5/16.6 MB 8.3 MB/s eta 0:00:02\n",
      "   ----------------- ---------------------- 7.1/16.6 MB 8.4 MB/s eta 0:00:02\n",
      "   ----------------- ---------------------- 7.1/16.6 MB 8.4 MB/s eta 0:00:02\n",
      "   ----------------- ---------------------- 7.1/16.6 MB 8.4 MB/s eta 0:00:02\n",
      "   ------------------ --------------------- 7.5/16.6 MB 7.6 MB/s eta 0:00:02\n",
      "   ------------------- -------------------- 8.1/16.6 MB 7.8 MB/s eta 0:00:02\n",
      "   -------------------- ------------------- 8.6/16.6 MB 8.0 MB/s eta 0:00:01\n",
      "   ---------------------- ----------------- 9.1/16.6 MB 8.1 MB/s eta 0:00:01\n",
      "   ----------------------- ---------------- 9.7/16.6 MB 8.4 MB/s eta 0:00:01\n",
      "   ------------------------ --------------- 10.1/16.6 MB 8.4 MB/s eta 0:00:01\n",
      "   ------------------------ --------------- 10.1/16.6 MB 8.1 MB/s eta 0:00:01\n",
      "   ------------------------- -------------- 10.5/16.6 MB 8.1 MB/s eta 0:00:01\n",
      "   -------------------------- ------------- 11.2/16.6 MB 8.1 MB/s eta 0:00:01\n",
      "   ---------------------------- ----------- 11.7/16.6 MB 8.3 MB/s eta 0:00:01\n",
      "   ----------------------------- ---------- 12.4/16.6 MB 9.0 MB/s eta 0:00:01\n",
      "   ------------------------------ --------- 12.7/16.6 MB 8.8 MB/s eta 0:00:01\n",
      "   ------------------------------- -------- 12.9/16.6 MB 9.0 MB/s eta 0:00:01\n",
      "   ------------------------------- -------- 12.9/16.6 MB 9.0 MB/s eta 0:00:01\n",
      "   ------------------------------- -------- 12.9/16.6 MB 8.0 MB/s eta 0:00:01\n",
      "   -------------------------------- ------- 13.5/16.6 MB 8.0 MB/s eta 0:00:01\n",
      "   --------------------------------- ------ 13.9/16.6 MB 8.0 MB/s eta 0:00:01\n",
      "   ---------------------------------- ----- 14.3/16.6 MB 8.3 MB/s eta 0:00:01\n",
      "   ---------------------------------- ----- 14.5/16.6 MB 8.2 MB/s eta 0:00:01\n",
      "   ----------------------------------- ---- 14.8/16.6 MB 8.0 MB/s eta 0:00:01\n",
      "   ------------------------------------ --- 15.1/16.6 MB 7.9 MB/s eta 0:00:01\n",
      "   ------------------------------------- -- 15.4/16.6 MB 8.0 MB/s eta 0:00:01\n",
      "   ------------------------------------- -- 15.5/16.6 MB 7.6 MB/s eta 0:00:01\n",
      "   -------------------------------------- - 16.0/16.6 MB 7.6 MB/s eta 0:00:01\n",
      "   ---------------------------------------  16.5/16.6 MB 7.7 MB/s eta 0:00:01\n",
      "   ---------------------------------------  16.6/16.6 MB 7.7 MB/s eta 0:00:01\n",
      "   ---------------------------------------- 16.6/16.6 MB 7.3 MB/s eta 0:00:00\n",
      "Downloading pytz-2024.1-py2.py3-none-any.whl (505 kB)\n",
      "   ---------------------------------------- 0.0/505.5 kB ? eta -:--:--\n",
      "   ------------------------------- -------- 399.4/505.5 kB 8.3 MB/s eta 0:00:01\n",
      "   ---------------------------------------- 505.5/505.5 kB 7.9 MB/s eta 0:00:00\n",
      "Downloading tzdata-2024.1-py2.py3-none-any.whl (345 kB)\n",
      "   ---------------------------------------- 0.0/345.4 kB ? eta -:--:--\n",
      "   ---------------------------------------- 345.4/345.4 kB 7.3 MB/s eta 0:00:00\n",
      "Installing collected packages: pytz, tzdata, numpy, pandas\n",
      "Successfully installed numpy-2.0.1 pandas-2.2.2 pytz-2024.1 tzdata-2024.1\n",
      "Note: you may need to restart the kernel to use updated packages.\n"
     ]
    },
    {
     "name": "stderr",
     "output_type": "stream",
     "text": [
      "  WARNING: The scripts f2py.exe and numpy-config.exe are installed in 'c:\\Users\\henri\\AppData\\Local\\Programs\\Python\\Python311\\Scripts' which is not on PATH.\n",
      "  Consider adding this directory to PATH or, if you prefer to suppress this warning, use --no-warn-script-location.\n",
      "\n",
      "[notice] A new release of pip is available: 24.0 -> 24.2\n",
      "[notice] To update, run: python.exe -m pip install --upgrade pip\n"
     ]
    }
   ],
   "source": [
    "pip install pandas"
   ]
  },
  {
   "cell_type": "code",
   "execution_count": 4,
   "metadata": {},
   "outputs": [
    {
     "name": "stdout",
     "output_type": "stream",
     "text": [
      "Requirement already satisfied: numpy in c:\\users\\henri\\appdata\\local\\programs\\python\\python311\\lib\\site-packages (2.0.1)\n",
      "Note: you may need to restart the kernel to use updated packages.\n"
     ]
    },
    {
     "name": "stderr",
     "output_type": "stream",
     "text": [
      "\n",
      "[notice] A new release of pip is available: 24.0 -> 24.2\n",
      "[notice] To update, run: python.exe -m pip install --upgrade pip\n"
     ]
    }
   ],
   "source": [
    "pip install numpy"
   ]
  },
  {
   "cell_type": "code",
   "execution_count": 5,
   "metadata": {},
   "outputs": [
    {
     "name": "stdout",
     "output_type": "stream",
     "text": [
      "Collecting seaborn\n",
      "  Downloading seaborn-0.13.2-py3-none-any.whl.metadata (5.4 kB)\n",
      "Requirement already satisfied: numpy!=1.24.0,>=1.20 in c:\\users\\henri\\appdata\\local\\programs\\python\\python311\\lib\\site-packages (from seaborn) (2.0.1)\n",
      "Requirement already satisfied: pandas>=1.2 in c:\\users\\henri\\appdata\\local\\programs\\python\\python311\\lib\\site-packages (from seaborn) (2.2.2)\n",
      "Collecting matplotlib!=3.6.1,>=3.4 (from seaborn)\n",
      "  Downloading matplotlib-3.9.1.post1-cp311-cp311-win_amd64.whl.metadata (11 kB)\n",
      "Collecting contourpy>=1.0.1 (from matplotlib!=3.6.1,>=3.4->seaborn)\n",
      "  Downloading contourpy-1.2.1-cp311-cp311-win_amd64.whl.metadata (5.8 kB)\n",
      "Collecting cycler>=0.10 (from matplotlib!=3.6.1,>=3.4->seaborn)\n",
      "  Downloading cycler-0.12.1-py3-none-any.whl.metadata (3.8 kB)\n",
      "Collecting fonttools>=4.22.0 (from matplotlib!=3.6.1,>=3.4->seaborn)\n",
      "  Downloading fonttools-4.53.1-cp311-cp311-win_amd64.whl.metadata (165 kB)\n",
      "     ---------------------------------------- 0.0/165.9 kB ? eta -:--:--\n",
      "     -------------------------------------  163.8/165.9 kB 3.3 MB/s eta 0:00:01\n",
      "     -------------------------------------- 165.9/165.9 kB 3.3 MB/s eta 0:00:00\n",
      "Collecting kiwisolver>=1.3.1 (from matplotlib!=3.6.1,>=3.4->seaborn)\n",
      "  Downloading kiwisolver-1.4.5-cp311-cp311-win_amd64.whl.metadata (6.5 kB)\n",
      "Requirement already satisfied: packaging>=20.0 in c:\\users\\henri\\appdata\\roaming\\python\\python311\\site-packages (from matplotlib!=3.6.1,>=3.4->seaborn) (24.1)\n",
      "Collecting pillow>=8 (from matplotlib!=3.6.1,>=3.4->seaborn)\n",
      "  Downloading pillow-10.4.0-cp311-cp311-win_amd64.whl.metadata (9.3 kB)\n",
      "Collecting pyparsing>=2.3.1 (from matplotlib!=3.6.1,>=3.4->seaborn)\n",
      "  Downloading pyparsing-3.1.2-py3-none-any.whl.metadata (5.1 kB)\n",
      "Requirement already satisfied: python-dateutil>=2.7 in c:\\users\\henri\\appdata\\roaming\\python\\python311\\site-packages (from matplotlib!=3.6.1,>=3.4->seaborn) (2.9.0.post0)\n",
      "Requirement already satisfied: pytz>=2020.1 in c:\\users\\henri\\appdata\\local\\programs\\python\\python311\\lib\\site-packages (from pandas>=1.2->seaborn) (2024.1)\n",
      "Requirement already satisfied: tzdata>=2022.7 in c:\\users\\henri\\appdata\\local\\programs\\python\\python311\\lib\\site-packages (from pandas>=1.2->seaborn) (2024.1)\n",
      "Requirement already satisfied: six>=1.5 in c:\\users\\henri\\appdata\\roaming\\python\\python311\\site-packages (from python-dateutil>=2.7->matplotlib!=3.6.1,>=3.4->seaborn) (1.16.0)\n",
      "Downloading seaborn-0.13.2-py3-none-any.whl (294 kB)\n",
      "   ---------------------------------------- 0.0/294.9 kB ? eta -:--:--\n",
      "   ---------------------------------------- 294.9/294.9 kB 9.2 MB/s eta 0:00:00\n",
      "Downloading matplotlib-3.9.1.post1-cp311-cp311-win_amd64.whl (8.0 MB)\n",
      "   ---------------------------------------- 0.0/8.0 MB ? eta -:--:--\n",
      "   -- ------------------------------------- 0.5/8.0 MB 11.1 MB/s eta 0:00:01\n",
      "   ----- ---------------------------------- 1.0/8.0 MB 10.9 MB/s eta 0:00:01\n",
      "   -------- ------------------------------- 1.6/8.0 MB 11.6 MB/s eta 0:00:01\n",
      "   ---------- ----------------------------- 2.0/8.0 MB 10.9 MB/s eta 0:00:01\n",
      "   ------------- -------------------------- 2.7/8.0 MB 11.4 MB/s eta 0:00:01\n",
      "   ------------- -------------------------- 2.7/8.0 MB 11.6 MB/s eta 0:00:01\n",
      "   ------------- -------------------------- 2.7/8.0 MB 11.6 MB/s eta 0:00:01\n",
      "   ------------- -------------------------- 2.7/8.0 MB 11.6 MB/s eta 0:00:01\n",
      "   --------------- ------------------------ 3.1/8.0 MB 7.3 MB/s eta 0:00:01\n",
      "   ----------------- ---------------------- 3.5/8.0 MB 7.5 MB/s eta 0:00:01\n",
      "   ------------------ --------------------- 3.7/8.0 MB 7.2 MB/s eta 0:00:01\n",
      "   --------------------- ------------------ 4.3/8.0 MB 7.6 MB/s eta 0:00:01\n",
      "   ----------------------- ---------------- 4.7/8.0 MB 7.7 MB/s eta 0:00:01\n",
      "   ----------------------- ---------------- 4.7/8.0 MB 7.7 MB/s eta 0:00:01\n",
      "   -------------------------- ------------- 5.2/8.0 MB 7.4 MB/s eta 0:00:01\n",
      "   ---------------------------- ----------- 5.7/8.0 MB 7.6 MB/s eta 0:00:01\n",
      "   ------------------------------ --------- 6.2/8.0 MB 7.7 MB/s eta 0:00:01\n",
      "   ---------------------------------- ----- 6.8/8.0 MB 8.1 MB/s eta 0:00:01\n",
      "   ----------------------------------- ---- 7.1/8.0 MB 8.0 MB/s eta 0:00:01\n",
      "   ------------------------------------ --- 7.2/8.0 MB 7.6 MB/s eta 0:00:01\n",
      "   ------------------------------------- -- 7.5/8.0 MB 7.8 MB/s eta 0:00:01\n",
      "   -------------------------------------- - 7.6/8.0 MB 7.5 MB/s eta 0:00:01\n",
      "   ---------------------------------------  8.0/8.0 MB 7.5 MB/s eta 0:00:01\n",
      "   ---------------------------------------- 8.0/8.0 MB 7.2 MB/s eta 0:00:00\n",
      "Downloading contourpy-1.2.1-cp311-cp311-win_amd64.whl (188 kB)\n",
      "   ---------------------------------------- 0.0/188.2 kB ? eta -:--:--\n",
      "   ---------------------------------------- 188.2/188.2 kB 5.7 MB/s eta 0:00:00\n",
      "Downloading cycler-0.12.1-py3-none-any.whl (8.3 kB)\n",
      "Downloading fonttools-4.53.1-cp311-cp311-win_amd64.whl (2.2 MB)\n",
      "   ---------------------------------------- 0.0/2.2 MB ? eta -:--:--\n",
      "   -------- ------------------------------- 0.5/2.2 MB 14.4 MB/s eta 0:00:01\n",
      "   ----------------- ---------------------- 1.0/2.2 MB 12.1 MB/s eta 0:00:01\n",
      "   -------------------------- ------------- 1.5/2.2 MB 11.6 MB/s eta 0:00:01\n",
      "   ---------------------------------- ----- 1.9/2.2 MB 11.1 MB/s eta 0:00:01\n",
      "   ---------------------------------- ----- 1.9/2.2 MB 11.1 MB/s eta 0:00:01\n",
      "   ---------------------------------------- 2.2/2.2 MB 8.3 MB/s eta 0:00:00\n",
      "Downloading kiwisolver-1.4.5-cp311-cp311-win_amd64.whl (56 kB)\n",
      "   ---------------------------------------- 0.0/56.1 kB ? eta -:--:--\n",
      "   ---------------------------------------- 56.1/56.1 kB 3.1 MB/s eta 0:00:00\n",
      "Downloading pillow-10.4.0-cp311-cp311-win_amd64.whl (2.6 MB)\n",
      "   ---------------------------------------- 0.0/2.6 MB ? eta -:--:--\n",
      "   ------- -------------------------------- 0.5/2.6 MB 15.5 MB/s eta 0:00:01\n",
      "   -------- ------------------------------- 0.5/2.6 MB 10.7 MB/s eta 0:00:01\n",
      "   -------- ------------------------------- 0.5/2.6 MB 4.3 MB/s eta 0:00:01\n",
      "   --------------- ------------------------ 1.0/2.6 MB 5.7 MB/s eta 0:00:01\n",
      "   ----------------------- ---------------- 1.5/2.6 MB 6.7 MB/s eta 0:00:01\n",
      "   ----------------------- ---------------- 1.5/2.6 MB 6.7 MB/s eta 0:00:01\n",
      "   ---------------------------- ----------- 1.8/2.6 MB 5.8 MB/s eta 0:00:01\n",
      "   ------------------------------------ --- 2.3/2.6 MB 6.4 MB/s eta 0:00:01\n",
      "   ---------------------------------------- 2.6/2.6 MB 6.3 MB/s eta 0:00:00\n",
      "Downloading pyparsing-3.1.2-py3-none-any.whl (103 kB)\n",
      "   ---------------------------------------- 0.0/103.2 kB ? eta -:--:--\n",
      "   ---------------------------------------- 103.2/103.2 kB 6.2 MB/s eta 0:00:00\n",
      "Installing collected packages: pyparsing, pillow, kiwisolver, fonttools, cycler, contourpy, matplotlib, seaborn\n",
      "Successfully installed contourpy-1.2.1 cycler-0.12.1 fonttools-4.53.1 kiwisolver-1.4.5 matplotlib-3.9.1.post1 pillow-10.4.0 pyparsing-3.1.2 seaborn-0.13.2\n",
      "Note: you may need to restart the kernel to use updated packages.\n"
     ]
    },
    {
     "name": "stderr",
     "output_type": "stream",
     "text": [
      "  WARNING: The scripts fonttools.exe, pyftmerge.exe, pyftsubset.exe and ttx.exe are installed in 'c:\\Users\\henri\\AppData\\Local\\Programs\\Python\\Python311\\Scripts' which is not on PATH.\n",
      "  Consider adding this directory to PATH or, if you prefer to suppress this warning, use --no-warn-script-location.\n",
      "\n",
      "[notice] A new release of pip is available: 24.0 -> 24.2\n",
      "[notice] To update, run: python.exe -m pip install --upgrade pip\n"
     ]
    }
   ],
   "source": [
    "pip install seaborn"
   ]
  },
  {
   "cell_type": "code",
   "execution_count": 6,
   "metadata": {},
   "outputs": [
    {
     "name": "stdout",
     "output_type": "stream",
     "text": [
      "Requirement already satisfied: matplotlib in c:\\users\\henri\\appdata\\local\\programs\\python\\python311\\lib\\site-packages (3.9.1.post1)\n",
      "Requirement already satisfied: contourpy>=1.0.1 in c:\\users\\henri\\appdata\\local\\programs\\python\\python311\\lib\\site-packages (from matplotlib) (1.2.1)\n",
      "Requirement already satisfied: cycler>=0.10 in c:\\users\\henri\\appdata\\local\\programs\\python\\python311\\lib\\site-packages (from matplotlib) (0.12.1)\n",
      "Requirement already satisfied: fonttools>=4.22.0 in c:\\users\\henri\\appdata\\local\\programs\\python\\python311\\lib\\site-packages (from matplotlib) (4.53.1)\n",
      "Requirement already satisfied: kiwisolver>=1.3.1 in c:\\users\\henri\\appdata\\local\\programs\\python\\python311\\lib\\site-packages (from matplotlib) (1.4.5)\n",
      "Requirement already satisfied: numpy>=1.23 in c:\\users\\henri\\appdata\\local\\programs\\python\\python311\\lib\\site-packages (from matplotlib) (2.0.1)\n",
      "Requirement already satisfied: packaging>=20.0 in c:\\users\\henri\\appdata\\roaming\\python\\python311\\site-packages (from matplotlib) (24.1)\n",
      "Requirement already satisfied: pillow>=8 in c:\\users\\henri\\appdata\\local\\programs\\python\\python311\\lib\\site-packages (from matplotlib) (10.4.0)\n",
      "Requirement already satisfied: pyparsing>=2.3.1 in c:\\users\\henri\\appdata\\local\\programs\\python\\python311\\lib\\site-packages (from matplotlib) (3.1.2)\n",
      "Requirement already satisfied: python-dateutil>=2.7 in c:\\users\\henri\\appdata\\roaming\\python\\python311\\site-packages (from matplotlib) (2.9.0.post0)\n",
      "Requirement already satisfied: six>=1.5 in c:\\users\\henri\\appdata\\roaming\\python\\python311\\site-packages (from python-dateutil>=2.7->matplotlib) (1.16.0)\n",
      "Note: you may need to restart the kernel to use updated packages.\n"
     ]
    },
    {
     "name": "stderr",
     "output_type": "stream",
     "text": [
      "\n",
      "[notice] A new release of pip is available: 24.0 -> 24.2\n",
      "[notice] To update, run: python.exe -m pip install --upgrade pip\n"
     ]
    }
   ],
   "source": [
    "pip install matplotlib"
   ]
  },
  {
   "cell_type": "code",
   "execution_count": 7,
   "metadata": {},
   "outputs": [],
   "source": [
    "import pandas as pd\n",
    "import numpy as np\n",
    "import seaborn as sns\n",
    "import matplotlib.pyplot as plt"
   ]
  },
  {
   "cell_type": "code",
   "execution_count": 8,
   "metadata": {},
   "outputs": [],
   "source": [
    "df = pd.read_csv('./telco_churn.csv')"
   ]
  },
  {
   "cell_type": "markdown",
   "metadata": {},
   "source": [
    "# EDA"
   ]
  },
  {
   "cell_type": "code",
   "execution_count": 9,
   "metadata": {},
   "outputs": [
    {
     "data": {
      "text/plain": [
       "<Axes: xlabel='Churn', ylabel='tenure'>"
      ]
     },
     "execution_count": 9,
     "metadata": {},
     "output_type": "execute_result"
    },
    {
     "data": {
      "image/png": "[encoded data removed]",
      "text/plain": [
       "<Figure size 640x480 with 1 Axes>"
      ]
     },
     "metadata": {},
     "output_type": "display_data"
    }
   ],
   "source": [
    "sns.boxplot(data=df, y='tenure', x='Churn')"
   ]
  },
  {
   "cell_type": "code",
   "execution_count": 10,
   "metadata": {},
   "outputs": [
    {
     "data": {
      "text/plain": [
       "<Axes: xlabel='Churn', ylabel='MonthlyCharges'>"
      ]
     },
     "execution_count": 10,
     "metadata": {},
     "output_type": "execute_result"
    },
    {
     "data": {
      "image/png": "[encoded data removed]",
      "text/plain": [
       "<Figure size 640x480 with 1 Axes>"
      ]
     },
     "metadata": {},
     "output_type": "display_data"
    }
   ],
   "source": [
    "sns.boxplot(data=df, y='MonthlyCharges', x='Churn')"
   ]
  },
  {
   "cell_type": "code",
   "execution_count": 11,
   "metadata": {},
   "outputs": [
    {
     "data": {
      "text/plain": [
       "TotalCharges\n",
       "20.2      11\n",
       "19.75      9\n",
       "19.9       8\n",
       "19.65      8\n",
       "20.05      8\n",
       "          ..\n",
       "1990.5     1\n",
       "7362.9     1\n",
       "346.45     1\n",
       "306.6      1\n",
       "6844.5     1\n",
       "Name: count, Length: 6530, dtype: int64"
      ]
     },
     "execution_count": 11,
     "metadata": {},
     "output_type": "execute_result"
    }
   ],
   "source": [
    "df['TotalCharges'] = df['TotalCharges'].replace(' ',np.nan,regex=True)\n",
    "df[\"TotalCharges\"].value_counts()"
   ]
  },
  {
   "cell_type": "code",
   "execution_count": 12,
   "metadata": {},
   "outputs": [],
   "source": [
    "df[\"TotalCharges\"] = df[\"TotalCharges\"].astype(\"float\")"
   ]
  },
  {
   "cell_type": "code",
   "execution_count": 13,
   "metadata": {},
   "outputs": [
    {
     "data": {
      "text/plain": [
       "<Axes: xlabel='Churn', ylabel='TotalCharges'>"
      ]
     },
     "execution_count": 13,
     "metadata": {},
     "output_type": "execute_result"
    },
    {
     "data": {
      "image/png": "[encoded data removed]",
      "text/plain": [
       "<Figure size 640x480 with 1 Axes>"
      ]
     },
     "metadata": {},
     "output_type": "display_data"
    }
   ],
   "source": [
    "sns.boxplot(data=df, y='TotalCharges', x='Churn')"
   ]
  },
  {
   "cell_type": "code",
   "execution_count": 16,
   "metadata": {},
   "outputs": [
    {
     "ename": "ValueError",
     "evalue": "The following variable cannot be assigned with wide-form data: `hue`",
     "output_type": "error",
     "traceback": [
      "\u001b[1;31m---------------------------------------------------------------------------\u001b[0m",
      "\u001b[1;31mValueError\u001b[0m                                Traceback (most recent call last)",
      "Cell \u001b[1;32mIn[16], line 21\u001b[0m\n\u001b[0;32m     19\u001b[0m fig , ax \u001b[38;5;241m=\u001b[39m plt\u001b[38;5;241m.\u001b[39msubplots(\u001b[38;5;241m4\u001b[39m,\u001b[38;5;241m3\u001b[39m,figsize \u001b[38;5;241m=\u001b[39m (\u001b[38;5;241m14\u001b[39m,\u001b[38;5;241m18\u001b[39m))\n\u001b[0;32m     20\u001b[0m \u001b[38;5;28;01mfor\u001b[39;00m i , subplots \u001b[38;5;129;01min\u001b[39;00m \u001b[38;5;28mzip\u001b[39m (df[cat], ax\u001b[38;5;241m.\u001b[39mflatten()):  \n\u001b[1;32m---> 21\u001b[0m   plot \u001b[38;5;241m=\u001b[39m \u001b[43msns\u001b[49m\u001b[38;5;241;43m.\u001b[39;49m\u001b[43mcountplot\u001b[49m\u001b[43m(\u001b[49m\u001b[43mdf\u001b[49m\u001b[43m[\u001b[49m\u001b[43mcat\u001b[49m\u001b[43m]\u001b[49m\u001b[43m[\u001b[49m\u001b[43mi\u001b[49m\u001b[43m]\u001b[49m\u001b[43m,\u001b[49m\u001b[43mhue\u001b[49m\u001b[43m \u001b[49m\u001b[38;5;241;43m=\u001b[39;49m\u001b[43m \u001b[49m\u001b[38;5;124;43m'\u001b[39;49m\u001b[38;5;124;43mChurn\u001b[39;49m\u001b[38;5;124;43m'\u001b[39;49m\u001b[43m,\u001b[49m\u001b[43m \u001b[49m\u001b[43max\u001b[49m\u001b[43m \u001b[49m\u001b[38;5;241;43m=\u001b[39;49m\u001b[43m \u001b[49m\u001b[43msubplots\u001b[49m\u001b[43m,\u001b[49m\u001b[43m \u001b[49m\u001b[43mpalette\u001b[49m\u001b[43m \u001b[49m\u001b[38;5;241;43m=\u001b[39;49m\u001b[43m \u001b[49m\u001b[38;5;124;43m'\u001b[39;49m\u001b[38;5;124;43mBuPu\u001b[39;49m\u001b[38;5;124;43m'\u001b[39;49m\u001b[43m)\u001b[49m\n\u001b[0;32m     22\u001b[0m   plot\u001b[38;5;241m.\u001b[39mset_xticklabels(plot\u001b[38;5;241m.\u001b[39mget_xticklabels(), rotation\u001b[38;5;241m=\u001b[39m\u001b[38;5;241m30\u001b[39m)\n\u001b[0;32m     23\u001b[0m plt\u001b[38;5;241m.\u001b[39msubplots_adjust(hspace\u001b[38;5;241m=\u001b[39m\u001b[38;5;241m1\u001b[39m)\n",
      "File \u001b[1;32mc:\\Users\\henri\\AppData\\Local\\Programs\\Python\\Python311\\Lib\\site-packages\\seaborn\\categorical.py:2631\u001b[0m, in \u001b[0;36mcountplot\u001b[1;34m(data, x, y, hue, order, hue_order, orient, color, palette, saturation, fill, hue_norm, stat, width, dodge, gap, log_scale, native_scale, formatter, legend, ax, **kwargs)\u001b[0m\n\u001b[0;32m   2628\u001b[0m \u001b[38;5;28;01melif\u001b[39;00m x \u001b[38;5;129;01mis\u001b[39;00m \u001b[38;5;129;01mnot\u001b[39;00m \u001b[38;5;28;01mNone\u001b[39;00m \u001b[38;5;129;01mand\u001b[39;00m y \u001b[38;5;129;01mis\u001b[39;00m \u001b[38;5;129;01mnot\u001b[39;00m \u001b[38;5;28;01mNone\u001b[39;00m:\n\u001b[0;32m   2629\u001b[0m     \u001b[38;5;28;01mraise\u001b[39;00m \u001b[38;5;167;01mTypeError\u001b[39;00m(\u001b[38;5;124m\"\u001b[39m\u001b[38;5;124mCannot pass values for both `x` and `y`.\u001b[39m\u001b[38;5;124m\"\u001b[39m)\n\u001b[1;32m-> 2631\u001b[0m p \u001b[38;5;241m=\u001b[39m \u001b[43m_CategoricalAggPlotter\u001b[49m\u001b[43m(\u001b[49m\n\u001b[0;32m   2632\u001b[0m \u001b[43m    \u001b[49m\u001b[43mdata\u001b[49m\u001b[38;5;241;43m=\u001b[39;49m\u001b[43mdata\u001b[49m\u001b[43m,\u001b[49m\n\u001b[0;32m   2633\u001b[0m \u001b[43m    \u001b[49m\u001b[43mvariables\u001b[49m\u001b[38;5;241;43m=\u001b[39;49m\u001b[38;5;28;43mdict\u001b[39;49m\u001b[43m(\u001b[49m\u001b[43mx\u001b[49m\u001b[38;5;241;43m=\u001b[39;49m\u001b[43mx\u001b[49m\u001b[43m,\u001b[49m\u001b[43m \u001b[49m\u001b[43my\u001b[49m\u001b[38;5;241;43m=\u001b[39;49m\u001b[43my\u001b[49m\u001b[43m,\u001b[49m\u001b[43m \u001b[49m\u001b[43mhue\u001b[49m\u001b[38;5;241;43m=\u001b[39;49m\u001b[43mhue\u001b[49m\u001b[43m)\u001b[49m\u001b[43m,\u001b[49m\n\u001b[0;32m   2634\u001b[0m \u001b[43m    \u001b[49m\u001b[43morder\u001b[49m\u001b[38;5;241;43m=\u001b[39;49m\u001b[43morder\u001b[49m\u001b[43m,\u001b[49m\n\u001b[0;32m   2635\u001b[0m \u001b[43m    \u001b[49m\u001b[43morient\u001b[49m\u001b[38;5;241;43m=\u001b[39;49m\u001b[43morient\u001b[49m\u001b[43m,\u001b[49m\n\u001b[0;32m   2636\u001b[0m \u001b[43m    \u001b[49m\u001b[43mcolor\u001b[49m\u001b[38;5;241;43m=\u001b[39;49m\u001b[43mcolor\u001b[49m\u001b[43m,\u001b[49m\n\u001b[0;32m   2637\u001b[0m \u001b[43m    \u001b[49m\u001b[43mlegend\u001b[49m\u001b[38;5;241;43m=\u001b[39;49m\u001b[43mlegend\u001b[49m\u001b[43m,\u001b[49m\n\u001b[0;32m   2638\u001b[0m \u001b[43m\u001b[49m\u001b[43m)\u001b[49m\n\u001b[0;32m   2640\u001b[0m \u001b[38;5;28;01mif\u001b[39;00m ax \u001b[38;5;129;01mis\u001b[39;00m \u001b[38;5;28;01mNone\u001b[39;00m:\n\u001b[0;32m   2641\u001b[0m     ax \u001b[38;5;241m=\u001b[39m plt\u001b[38;5;241m.\u001b[39mgca()\n",
      "File \u001b[1;32mc:\\Users\\henri\\AppData\\Local\\Programs\\Python\\Python311\\Lib\\site-packages\\seaborn\\categorical.py:67\u001b[0m, in \u001b[0;36m_CategoricalPlotter.__init__\u001b[1;34m(self, data, variables, order, orient, require_numeric, color, legend)\u001b[0m\n\u001b[0;32m     56\u001b[0m \u001b[38;5;28;01mdef\u001b[39;00m \u001b[38;5;21m__init__\u001b[39m(\n\u001b[0;32m     57\u001b[0m     \u001b[38;5;28mself\u001b[39m,\n\u001b[0;32m     58\u001b[0m     data\u001b[38;5;241m=\u001b[39m\u001b[38;5;28;01mNone\u001b[39;00m,\n\u001b[1;32m   (...)\u001b[0m\n\u001b[0;32m     64\u001b[0m     legend\u001b[38;5;241m=\u001b[39m\u001b[38;5;124m\"\u001b[39m\u001b[38;5;124mauto\u001b[39m\u001b[38;5;124m\"\u001b[39m,\n\u001b[0;32m     65\u001b[0m ):\n\u001b[1;32m---> 67\u001b[0m     \u001b[38;5;28;43msuper\u001b[39;49m\u001b[43m(\u001b[49m\u001b[43m)\u001b[49m\u001b[38;5;241;43m.\u001b[39;49m\u001b[38;5;21;43m__init__\u001b[39;49m\u001b[43m(\u001b[49m\u001b[43mdata\u001b[49m\u001b[38;5;241;43m=\u001b[39;49m\u001b[43mdata\u001b[49m\u001b[43m,\u001b[49m\u001b[43m \u001b[49m\u001b[43mvariables\u001b[49m\u001b[38;5;241;43m=\u001b[39;49m\u001b[43mvariables\u001b[49m\u001b[43m)\u001b[49m\n\u001b[0;32m     69\u001b[0m     \u001b[38;5;66;03m# This method takes care of some bookkeeping that is necessary because the\u001b[39;00m\n\u001b[0;32m     70\u001b[0m     \u001b[38;5;66;03m# original categorical plots (prior to the 2021 refactor) had some rules that\u001b[39;00m\n\u001b[0;32m     71\u001b[0m     \u001b[38;5;66;03m# don't fit exactly into VectorPlotter logic. It may be wise to have a second\u001b[39;00m\n\u001b[1;32m   (...)\u001b[0m\n\u001b[0;32m     76\u001b[0m     \u001b[38;5;66;03m# default VectorPlotter rules. If we do decide to make orient part of the\u001b[39;00m\n\u001b[0;32m     77\u001b[0m     \u001b[38;5;66;03m# _base variable assignment, we'll want to figure out how to express that.\u001b[39;00m\n\u001b[0;32m     78\u001b[0m     \u001b[38;5;28;01mif\u001b[39;00m \u001b[38;5;28mself\u001b[39m\u001b[38;5;241m.\u001b[39minput_format \u001b[38;5;241m==\u001b[39m \u001b[38;5;124m\"\u001b[39m\u001b[38;5;124mwide\u001b[39m\u001b[38;5;124m\"\u001b[39m \u001b[38;5;129;01mand\u001b[39;00m orient \u001b[38;5;129;01min\u001b[39;00m [\u001b[38;5;124m\"\u001b[39m\u001b[38;5;124mh\u001b[39m\u001b[38;5;124m\"\u001b[39m, \u001b[38;5;124m\"\u001b[39m\u001b[38;5;124my\u001b[39m\u001b[38;5;124m\"\u001b[39m]:\n",
      "File \u001b[1;32mc:\\Users\\henri\\AppData\\Local\\Programs\\Python\\Python311\\Lib\\site-packages\\seaborn\\_base.py:634\u001b[0m, in \u001b[0;36mVectorPlotter.__init__\u001b[1;34m(self, data, variables)\u001b[0m\n\u001b[0;32m    629\u001b[0m \u001b[38;5;66;03m# var_ordered is relevant only for categorical axis variables, and may\u001b[39;00m\n\u001b[0;32m    630\u001b[0m \u001b[38;5;66;03m# be better handled by an internal axis information object that tracks\u001b[39;00m\n\u001b[0;32m    631\u001b[0m \u001b[38;5;66;03m# such information and is set up by the scale_* methods. The analogous\u001b[39;00m\n\u001b[0;32m    632\u001b[0m \u001b[38;5;66;03m# information for numeric axes would be information about log scales.\u001b[39;00m\n\u001b[0;32m    633\u001b[0m \u001b[38;5;28mself\u001b[39m\u001b[38;5;241m.\u001b[39m_var_ordered \u001b[38;5;241m=\u001b[39m {\u001b[38;5;124m\"\u001b[39m\u001b[38;5;124mx\u001b[39m\u001b[38;5;124m\"\u001b[39m: \u001b[38;5;28;01mFalse\u001b[39;00m, \u001b[38;5;124m\"\u001b[39m\u001b[38;5;124my\u001b[39m\u001b[38;5;124m\"\u001b[39m: \u001b[38;5;28;01mFalse\u001b[39;00m}  \u001b[38;5;66;03m# alt., used DefaultDict\u001b[39;00m\n\u001b[1;32m--> 634\u001b[0m \u001b[38;5;28;43mself\u001b[39;49m\u001b[38;5;241;43m.\u001b[39;49m\u001b[43massign_variables\u001b[49m\u001b[43m(\u001b[49m\u001b[43mdata\u001b[49m\u001b[43m,\u001b[49m\u001b[43m \u001b[49m\u001b[43mvariables\u001b[49m\u001b[43m)\u001b[49m\n\u001b[0;32m    636\u001b[0m \u001b[38;5;66;03m# TODO Lots of tests assume that these are called to initialize the\u001b[39;00m\n\u001b[0;32m    637\u001b[0m \u001b[38;5;66;03m# mappings to default values on class initialization. I'd prefer to\u001b[39;00m\n\u001b[0;32m    638\u001b[0m \u001b[38;5;66;03m# move away from that and only have a mapping when explicitly called.\u001b[39;00m\n\u001b[0;32m    639\u001b[0m \u001b[38;5;28;01mfor\u001b[39;00m var \u001b[38;5;129;01min\u001b[39;00m [\u001b[38;5;124m\"\u001b[39m\u001b[38;5;124mhue\u001b[39m\u001b[38;5;124m\"\u001b[39m, \u001b[38;5;124m\"\u001b[39m\u001b[38;5;124msize\u001b[39m\u001b[38;5;124m\"\u001b[39m, \u001b[38;5;124m\"\u001b[39m\u001b[38;5;124mstyle\u001b[39m\u001b[38;5;124m\"\u001b[39m]:\n",
      "File \u001b[1;32mc:\\Users\\henri\\AppData\\Local\\Programs\\Python\\Python311\\Lib\\site-packages\\seaborn\\_base.py:673\u001b[0m, in \u001b[0;36mVectorPlotter.assign_variables\u001b[1;34m(self, data, variables)\u001b[0m\n\u001b[0;32m    671\u001b[0m \u001b[38;5;28;01mif\u001b[39;00m x \u001b[38;5;129;01mis\u001b[39;00m \u001b[38;5;28;01mNone\u001b[39;00m \u001b[38;5;129;01mand\u001b[39;00m y \u001b[38;5;129;01mis\u001b[39;00m \u001b[38;5;28;01mNone\u001b[39;00m:\n\u001b[0;32m    672\u001b[0m     \u001b[38;5;28mself\u001b[39m\u001b[38;5;241m.\u001b[39minput_format \u001b[38;5;241m=\u001b[39m \u001b[38;5;124m\"\u001b[39m\u001b[38;5;124mwide\u001b[39m\u001b[38;5;124m\"\u001b[39m\n\u001b[1;32m--> 673\u001b[0m     frame, names \u001b[38;5;241m=\u001b[39m \u001b[38;5;28;43mself\u001b[39;49m\u001b[38;5;241;43m.\u001b[39;49m\u001b[43m_assign_variables_wideform\u001b[49m\u001b[43m(\u001b[49m\u001b[43mdata\u001b[49m\u001b[43m,\u001b[49m\u001b[43m \u001b[49m\u001b[38;5;241;43m*\u001b[39;49m\u001b[38;5;241;43m*\u001b[39;49m\u001b[43mvariables\u001b[49m\u001b[43m)\u001b[49m\n\u001b[0;32m    674\u001b[0m \u001b[38;5;28;01melse\u001b[39;00m:\n\u001b[0;32m    675\u001b[0m     \u001b[38;5;66;03m# When dealing with long-form input, use the newer PlotData\u001b[39;00m\n\u001b[0;32m    676\u001b[0m     \u001b[38;5;66;03m# object (internal but introduced for the objects interface)\u001b[39;00m\n\u001b[0;32m    677\u001b[0m     \u001b[38;5;66;03m# to centralize / standardize data consumption logic.\u001b[39;00m\n\u001b[0;32m    678\u001b[0m     \u001b[38;5;28mself\u001b[39m\u001b[38;5;241m.\u001b[39minput_format \u001b[38;5;241m=\u001b[39m \u001b[38;5;124m\"\u001b[39m\u001b[38;5;124mlong\u001b[39m\u001b[38;5;124m\"\u001b[39m\n",
      "File \u001b[1;32mc:\\Users\\henri\\AppData\\Local\\Programs\\Python\\Python311\\Lib\\site-packages\\seaborn\\_base.py:723\u001b[0m, in \u001b[0;36mVectorPlotter._assign_variables_wideform\u001b[1;34m(self, data, **kwargs)\u001b[0m\n\u001b[0;32m    721\u001b[0m     err \u001b[38;5;241m=\u001b[39m \u001b[38;5;124mf\u001b[39m\u001b[38;5;124m\"\u001b[39m\u001b[38;5;124mThe following variable\u001b[39m\u001b[38;5;132;01m{\u001b[39;00ms\u001b[38;5;132;01m}\u001b[39;00m\u001b[38;5;124m cannot be assigned with wide-form data: \u001b[39m\u001b[38;5;124m\"\u001b[39m\n\u001b[0;32m    722\u001b[0m     err \u001b[38;5;241m+\u001b[39m\u001b[38;5;241m=\u001b[39m \u001b[38;5;124m\"\u001b[39m\u001b[38;5;124m, \u001b[39m\u001b[38;5;124m\"\u001b[39m\u001b[38;5;241m.\u001b[39mjoin(\u001b[38;5;124mf\u001b[39m\u001b[38;5;124m\"\u001b[39m\u001b[38;5;124m`\u001b[39m\u001b[38;5;132;01m{\u001b[39;00mv\u001b[38;5;132;01m}\u001b[39;00m\u001b[38;5;124m`\u001b[39m\u001b[38;5;124m\"\u001b[39m \u001b[38;5;28;01mfor\u001b[39;00m v \u001b[38;5;129;01min\u001b[39;00m assigned)\n\u001b[1;32m--> 723\u001b[0m     \u001b[38;5;28;01mraise\u001b[39;00m \u001b[38;5;167;01mValueError\u001b[39;00m(err)\n\u001b[0;32m    725\u001b[0m \u001b[38;5;66;03m# Determine if the data object actually has any data in it\u001b[39;00m\n\u001b[0;32m    726\u001b[0m empty \u001b[38;5;241m=\u001b[39m data \u001b[38;5;129;01mis\u001b[39;00m \u001b[38;5;28;01mNone\u001b[39;00m \u001b[38;5;129;01mor\u001b[39;00m \u001b[38;5;129;01mnot\u001b[39;00m \u001b[38;5;28mlen\u001b[39m(data)\n",
      "\u001b[1;31mValueError\u001b[0m: The following variable cannot be assigned with wide-form data: `hue`"
     ]
    },
    {
     "data": {
      "image/png": "[encoded data removed]",
      "text/plain": [
       "<Figure size 1400x1800 with 12 Axes>"
      ]
     },
     "metadata": {},
     "output_type": "display_data"
    }
   ],
   "source": [
    "cat = [\n",
    " 'gender',\n",
    " 'Partner',\n",
    " 'Dependents',\n",
    " 'PhoneService',\n",
    " 'MultipleLines',\n",
    " 'InternetService',\n",
    " 'OnlineSecurity',\n",
    " 'OnlineBackup',\n",
    " 'DeviceProtection',\n",
    " 'TechSupport',\n",
    " 'StreamingTV',\n",
    " 'StreamingMovies',\n",
    " 'Contract',\n",
    " 'PaperlessBilling',\n",
    " 'PaymentMethod'\n",
    "]\n",
    "\n",
    "fig , ax = plt.subplots(4,3,figsize = (14,18))\n",
    "for i , subplots in zip (df[cat], ax.flatten()):  \n",
    "  plot = sns.countplot(df[cat][i],hue = 'Churn', ax = subplots, palette = 'BuPu')\n",
    "  plot.set_xticklabels(plot.get_xticklabels(), rotation=30)\n",
    "plt.subplots_adjust(hspace=1)\n",
    "plt.show()"
   ]
  },
  {
   "cell_type": "markdown",
   "metadata": {},
   "source": [
    "# Feature Engineering"
   ]
  },
  {
   "cell_type": "code",
   "execution_count": 17,
   "metadata": {},
   "outputs": [],
   "source": [
    "def calc_family_size(dataframe):\n",
    "    if dataframe['Partner']=='Yes' and dataframe['Dependents']=='Yes':\n",
    "        return 'big_family'\n",
    "    elif dataframe['Partner']=='Yes' and dataframe['Dependents']=='No':\n",
    "        return 'no_child'\n",
    "    elif dataframe['Partner']=='No' and dataframe['Dependents']=='Yes':\n",
    "        return 'single_parent'\n",
    "    elif dataframe['Partner']=='No' and dataframe['Dependents']=='No':\n",
    "        return 'no_family'\n",
    "    else:\n",
    "        return 'others'\n",
    "\n",
    "df['family_size'] = df.apply(calc_family_size, axis=1)"
   ]
  },
  {
   "cell_type": "code",
   "execution_count": 18,
   "metadata": {},
   "outputs": [],
   "source": [
    "def calc_service_profile(dataframe):\n",
    "\n",
    "    if (dataframe['MultipleLines'] == 'No phone service') & (dataframe['InternetService'] == 'No'):\n",
    "        return 'Not a customer'\n",
    "    elif (dataframe['MultipleLines'] != 'No phone service') & (dataframe['InternetService'] == 'No'):\n",
    "        return 'only_phone'\n",
    "    elif (dataframe['MultipleLines'] == 'No phone service') & (dataframe['InternetService'] != 'No'):\n",
    "        return 'only_internet'\n",
    "    elif (dataframe['MultipleLines'] != 'No phone service') & (dataframe['InternetService'] != 'No'):\n",
    "        return 'phone_and_internet'\n",
    "    else:\n",
    "        return 'others'\n",
    "\n",
    "df['service_profile'] = df.apply(calc_service_profile, axis=1)"
   ]
  },
  {
   "cell_type": "code",
   "execution_count": 19,
   "metadata": {},
   "outputs": [],
   "source": [
    "def calc_customer_service(dataframe):\n",
    "\n",
    "    if (dataframe['OnlineBackup'] == 'Yes') & (dataframe['TechSupport'] == 'Yes'):\n",
    "        return 'Full Support'\n",
    "    elif (dataframe['OnlineBackup'] == 'Yes') & (dataframe['TechSupport'] == 'No'):\n",
    "        return 'only_phone'\n",
    "    elif (dataframe['OnlineBackup'] == 'Yes') & (dataframe['TechSupport'] == 'Yes'):\n",
    "        return 'only_internet'\n",
    "    elif (dataframe['OnlineBackup'] == 'Yes') & (dataframe['TechSupport'] == 'Yes'):\n",
    "        return 'phone_and_internet'\n",
    "    else:\n",
    "        return 'others'\n",
    "\n",
    "df['service_profile'] = df.apply(calc_service_profile, axis=1)"
   ]
  },
  {
   "cell_type": "code",
   "execution_count": 20,
   "metadata": {},
   "outputs": [],
   "source": [
    "def calc_security_level(dataframe):\n",
    "\n",
    "    if (dataframe['OnlineSecurity'] == 'No internet service') & (dataframe['DeviceProtection'] == 'No internet service'):\n",
    "        return 'No internet service'\n",
    "    elif (dataframe['OnlineSecurity'] == 'Yes') & (dataframe['DeviceProtection'] == 'Yes'):\n",
    "        return 'strong security'\n",
    "    elif ((dataframe['OnlineSecurity'] == 'No') & (dataframe['DeviceProtection'] == 'Yes') | (dataframe['OnlineSecurity'] == 'Yes') & (dataframe['DeviceProtection'] == 'No')):\n",
    "        return 'mid security'\n",
    "    elif (dataframe['OnlineSecurity'] == 'No') & (dataframe['DeviceProtection'] == 'No'):\n",
    "        return 'no security'\n",
    "    else:\n",
    "        return 'others'\n",
    "\n",
    "df['security_level'] = df.apply(calc_security_level, axis=1)"
   ]
  },
  {
   "cell_type": "code",
   "execution_count": 21,
   "metadata": {},
   "outputs": [],
   "source": [
    "def calc_streaming_profile(dataframe):\n",
    "\n",
    "    if (dataframe['StreamingTV'] == 'No internet service') & (dataframe['StreamingMovies'] == 'No internet service'):\n",
    "        return 'No internet service'\n",
    "    elif (dataframe['StreamingTV'] == 'Yes') & (dataframe['StreamingMovies'] == 'Yes'):\n",
    "        return 'Movies and TV'\n",
    "    elif ((dataframe['StreamingTV'] == 'No') & (dataframe['StreamingMovies'] == 'Yes') | (dataframe['StreamingTV'] == 'Yes') & (dataframe['StreamingMovies'] == 'No')):\n",
    "        return 'only one'\n",
    "    elif (dataframe['StreamingTV'] == 'No') & (dataframe['StreamingMovies'] == 'No'):\n",
    "        return 'no streaming'\n",
    "    else:\n",
    "        return 'others'\n",
    "\n",
    "df['streaming_profile'] = df.apply(calc_streaming_profile, axis=1)"
   ]
  },
  {
   "cell_type": "code",
   "execution_count": 22,
   "metadata": {},
   "outputs": [],
   "source": [
    "def calc_billing_profile(dataframe):\n",
    "\n",
    "    if (dataframe['PaymentMethod'] == 'Electronic check'):\n",
    "        return 'Electronic check'\n",
    "    elif (dataframe['PaymentMethod'] == 'Mailed check'):\n",
    "        return 'Mailed check'\n",
    "    elif (dataframe['PaymentMethod'] == 'Bank transfer (automatic)'):\n",
    "        return 'Bank transfer (automatic)'\n",
    "    elif (dataframe['PaymentMethod'] == 'Credit card (automatic)'):\n",
    "        return 'Credit card (automatic)'\n",
    "    else:\n",
    "        return 'PaperlessBilling'\n",
    "\n",
    "df['billing_profile'] = df.apply(calc_billing_profile, axis=1)"
   ]
  },
  {
   "cell_type": "code",
   "execution_count": 23,
   "metadata": {},
   "outputs": [],
   "source": [
    "def calc_tenure_cat(dataframe):\n",
    "\n",
    "    if (dataframe['tenure'] < 3):\n",
    "        return '[0,3)'\n",
    "    elif (dataframe['tenure'] < 6):\n",
    "        return '[3,6)'\n",
    "    elif (dataframe['tenure'] < 12):\n",
    "        return '[6,12)'\n",
    "    elif (dataframe['tenure'] < 24):\n",
    "        return '[12,24)'\n",
    "    elif (dataframe['tenure'] < 36):\n",
    "        return '[24,36)'\n",
    "    else:\n",
    "        return '[36,inf)'\n",
    "\n",
    "df['tenure_cat'] = df.apply(calc_tenure_cat, axis=1)"
   ]
  },
  {
   "cell_type": "code",
   "execution_count": 24,
   "metadata": {},
   "outputs": [],
   "source": [
    "def calc_monthly_charges_cat(dataframe):\n",
    "\n",
    "    if (dataframe['MonthlyCharges'] < 20):\n",
    "        return '[0,20)'\n",
    "    elif (dataframe['MonthlyCharges'] < 40):\n",
    "        return '[20,40)'\n",
    "    elif (dataframe['MonthlyCharges'] < 60):\n",
    "        return '[40,60)'\n",
    "    elif (dataframe['MonthlyCharges'] < 80):\n",
    "        return '[60,80)'\n",
    "    elif (dataframe['MonthlyCharges'] < 100):\n",
    "        return '[80,100)'\n",
    "    else:\n",
    "        return '[100,inf)'\n",
    "\n",
    "df['monthly_charges_cat'] = df.apply(calc_monthly_charges_cat, axis=1)"
   ]
  },
  {
   "cell_type": "code",
   "execution_count": 36,
   "metadata": {},
   "outputs": [],
   "source": [
    "df.iloc[:,20:].to_parquet('./features.parquet')"
   ]
  },
  {
   "cell_type": "code",
   "execution_count": null,
   "metadata": {},
   "outputs": [],
   "source": []
  }
 ],
 "metadata": {
  "kernelspec": {
   "display_name": "base",
   "language": "python",
   "name": "python3"
  },
  "language_info": {
   "codemirror_mode": {
    "name": "ipython",
    "version": 3
   },
   "file_extension": ".py",
   "mimetype": "text/x-python",
   "name": "python",
   "nbconvert_exporter": "python",
   "pygments_lexer": "ipython3",
   "version": "3.11.8"
  }
 },
 "nbformat": 4,
 "nbformat_minor": 2
}
